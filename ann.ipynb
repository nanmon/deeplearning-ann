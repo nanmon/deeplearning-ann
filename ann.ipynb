{
 "cells": [
  {
   "cell_type": "markdown",
   "metadata": {},
   "source": [
    "# Analisis de cuentas de un banco ficticio para saber si los clientes van a abandonar el banco o no"
   ]
  },
  {
   "cell_type": "markdown",
   "metadata": {},
   "source": [
    "# Part 1: Data Preprocessing"
   ]
  },
  {
   "cell_type": "markdown",
   "metadata": {},
   "source": [
    "## Importing the libraries"
   ]
  },
  {
   "cell_type": "code",
   "execution_count": 1,
   "metadata": {},
   "outputs": [],
   "source": [
    "import numpy as np\n",
    "import matplotlib.pyplot as plt\n",
    "import pandas as pd\n"
   ]
  },
  {
   "cell_type": "markdown",
   "metadata": {},
   "source": [
    "## Importing datasets\n",
    "Las primeras 3 columnas son numero de columna, id de cliente, y nombre de cliente, por lo que no nos interesan.\n",
    "La ultima columna dice si dejó o no dejó el banco después de 6 meses"
   ]
  },
  {
   "cell_type": "code",
   "execution_count": 2,
   "metadata": {},
   "outputs": [],
   "source": [
    "dataset = pd.read_csv('Churn_Modelling.csv')\n",
    "X = dataset.iloc[:, 3:13].values\n",
    "y = dataset.iloc[:, 13].values"
   ]
  },
  {
   "cell_type": "markdown",
   "metadata": {},
   "source": [
    "## Encoding the categorical variables\n",
    "Enumera el nombre del país y el genero, y no me acuerdo que hace el hot encoder"
   ]
  },
  {
   "cell_type": "code",
   "execution_count": 27,
   "metadata": {},
   "outputs": [
    {
     "data": {
      "text/plain": [
       "(10000, 12)"
      ]
     },
     "execution_count": 27,
     "metadata": {},
     "output_type": "execute_result"
    }
   ],
   "source": [
    "from sklearn.preprocessing import LabelEncoder, OneHotEncoder\n",
    "labelencoder_X_1 = LabelEncoder()\n",
    "X[:, 1] = labelencoder_X_1.fit_transform(X[:,1])\n",
    "labelencoder_X_2 = LabelEncoder()\n",
    "X[:, 2] = labelencoder_X_2.fit_transform(X[:,2])\n",
    "onehotencoder = OneHotEncoder(categorical_features = [1])\n",
    "X = onehotencoder.fit_transform(X).toarray()\n",
    "X = X[:, 1:]\n",
    "X.shape"
   ]
  },
  {
   "cell_type": "markdown",
   "metadata": {},
   "source": [
    "## Splitting the dataset into the Training set and Test set"
   ]
  },
  {
   "cell_type": "code",
   "execution_count": 31,
   "metadata": {},
   "outputs": [
    {
     "data": {
      "text/plain": [
       "(8000, 12)"
      ]
     },
     "execution_count": 31,
     "metadata": {},
     "output_type": "execute_result"
    }
   ],
   "source": [
    "from sklearn.model_selection import train_test_split\n",
    "X_train, X_test, y_train, y_test = train_test_split(X, y, test_size = 0.2, random_state = 0)\n",
    "X_train.shape"
   ]
  },
  {
   "cell_type": "markdown",
   "metadata": {},
   "source": [
    "## Feature scaling\n",
    "ACP"
   ]
  },
  {
   "cell_type": "code",
   "execution_count": 32,
   "metadata": {},
   "outputs": [
    {
     "data": {
      "text/plain": [
       "(8000, 12)"
      ]
     },
     "execution_count": 32,
     "metadata": {},
     "output_type": "execute_result"
    }
   ],
   "source": [
    "from sklearn.preprocessing import StandardScaler\n",
    "sc = StandardScaler()\n",
    "X_train = sc.fit_transform(X_train)\n",
    "X_test = sc.transform(X_test)\n",
    "X_train.shape"
   ]
  },
  {
   "cell_type": "markdown",
   "metadata": {},
   "source": [
    "# Part 2: Now let's make the ANN!"
   ]
  },
  {
   "cell_type": "markdown",
   "metadata": {},
   "source": [
    "## Importing the Keras libraries and packages"
   ]
  },
  {
   "cell_type": "code",
   "execution_count": 18,
   "metadata": {},
   "outputs": [],
   "source": [
    "import keras\n",
    "from keras.models import Sequential\n",
    "from keras.layers import Dense"
   ]
  },
  {
   "cell_type": "markdown",
   "metadata": {},
   "source": [
    "## Initializing the ANN"
   ]
  },
  {
   "cell_type": "code",
   "execution_count": 38,
   "metadata": {},
   "outputs": [],
   "source": [
    "classifier = Sequential()"
   ]
  },
  {
   "cell_type": "markdown",
   "metadata": {},
   "source": [
    "## Adding the input layer and the first hidden layer\n",
    "6 neuronas, inicializa los pesos con una distribucion uniforme, relus, 12 entradas"
   ]
  },
  {
   "cell_type": "code",
   "execution_count": 39,
   "metadata": {},
   "outputs": [],
   "source": [
    "classifier.add(Dense(6, kernel_initializer = 'uniform', activation = 'relu', input_dim = 12))"
   ]
  },
  {
   "cell_type": "markdown",
   "metadata": {},
   "source": [
    "## Adding the second hidden layer\n",
    "6 neuronas, uniforme, relu"
   ]
  },
  {
   "cell_type": "code",
   "execution_count": 40,
   "metadata": {},
   "outputs": [],
   "source": [
    "classifier.add(Dense(6, kernel_initializer = 'uniform', activation = 'relu'))"
   ]
  },
  {
   "cell_type": "markdown",
   "metadata": {},
   "source": [
    "## Adding the output layer\n",
    "1 neurona, uniforme, binaria"
   ]
  },
  {
   "cell_type": "code",
   "execution_count": 41,
   "metadata": {},
   "outputs": [],
   "source": [
    "classifier.add(Dense(1, kernel_initializer = 'uniform', activation = 'sigmoid'))"
   ]
  },
  {
   "cell_type": "markdown",
   "metadata": {},
   "source": [
    "## Compiling the ANN\n",
    "b-prop"
   ]
  },
  {
   "cell_type": "code",
   "execution_count": 42,
   "metadata": {},
   "outputs": [],
   "source": [
    "classifier.compile(optimizer = 'adam', loss = 'binary_crossentropy', metrics = ['accuracy'])"
   ]
  },
  {
   "cell_type": "markdown",
   "metadata": {},
   "source": [
    "## Fitting the ANN to the Training set"
   ]
  },
  {
   "cell_type": "code",
   "execution_count": 43,
   "metadata": {},
   "outputs": [
    {
     "name": "stdout",
     "output_type": "stream",
     "text": [
      "Epoch 1/100\n",
      "8000/8000 [==============================] - 3s 380us/step - loss: 0.4892 - acc: 0.7955\n",
      "Epoch 2/100\n",
      "8000/8000 [==============================] - 2s 293us/step - loss: 0.4295 - acc: 0.7960\n",
      "Epoch 3/100\n",
      "8000/8000 [==============================] - 2s 294us/step - loss: 0.4247 - acc: 0.7960\n",
      "Epoch 4/100\n",
      "8000/8000 [==============================] - 2s 293us/step - loss: 0.4204 - acc: 0.8075\n",
      "Epoch 5/100\n",
      "8000/8000 [==============================] - 2s 299us/step - loss: 0.4173 - acc: 0.8247\n",
      "Epoch 6/100\n",
      "8000/8000 [==============================] - 2s 294us/step - loss: 0.4150 - acc: 0.8285\n",
      "Epoch 7/100\n",
      "8000/8000 [==============================] - 2s 297us/step - loss: 0.4138 - acc: 0.8292\n",
      "Epoch 8/100\n",
      "8000/8000 [==============================] - 2s 297us/step - loss: 0.4120 - acc: 0.8319\n",
      "Epoch 9/100\n",
      "8000/8000 [==============================] - 2s 304us/step - loss: 0.4106 - acc: 0.8327\n",
      "Epoch 10/100\n",
      "8000/8000 [==============================] - 2s 303us/step - loss: 0.4101 - acc: 0.8339\n",
      "Epoch 11/100\n",
      "8000/8000 [==============================] - 2s 308us/step - loss: 0.4092 - acc: 0.8339\n",
      "Epoch 12/100\n",
      "8000/8000 [==============================] - 2s 304us/step - loss: 0.4083 - acc: 0.8344\n",
      "Epoch 13/100\n",
      "8000/8000 [==============================] - 2s 305us/step - loss: 0.4078 - acc: 0.8344\n",
      "Epoch 14/100\n",
      "8000/8000 [==============================] - 2s 304us/step - loss: 0.4071 - acc: 0.8349\n",
      "Epoch 15/100\n",
      "8000/8000 [==============================] - 2s 303us/step - loss: 0.4068 - acc: 0.8347\n",
      "Epoch 16/100\n",
      "8000/8000 [==============================] - 2s 304us/step - loss: 0.4059 - acc: 0.8341\n",
      "Epoch 17/100\n",
      "8000/8000 [==============================] - 2s 309us/step - loss: 0.4055 - acc: 0.8345\n",
      "Epoch 18/100\n",
      "8000/8000 [==============================] - 2s 311us/step - loss: 0.4048 - acc: 0.8346\n",
      "Epoch 19/100\n",
      "8000/8000 [==============================] - 2s 308us/step - loss: 0.4044 - acc: 0.8352\n",
      "Epoch 20/100\n",
      "8000/8000 [==============================] - 2s 309us/step - loss: 0.4041 - acc: 0.8341\n",
      "Epoch 21/100\n",
      "8000/8000 [==============================] - 2s 307us/step - loss: 0.4041 - acc: 0.8347\n",
      "Epoch 22/100\n",
      "8000/8000 [==============================] - 2s 308us/step - loss: 0.4040 - acc: 0.8347\n",
      "Epoch 23/100\n",
      "8000/8000 [==============================] - 2s 310us/step - loss: 0.4037 - acc: 0.8352\n",
      "Epoch 24/100\n",
      "8000/8000 [==============================] - 3s 335us/step - loss: 0.4034 - acc: 0.8341\n",
      "Epoch 25/100\n",
      "8000/8000 [==============================] - 3s 370us/step - loss: 0.4032 - acc: 0.8359\n",
      "Epoch 26/100\n",
      "8000/8000 [==============================] - 3s 313us/step - loss: 0.4032 - acc: 0.8347\n",
      "Epoch 27/100\n",
      "8000/8000 [==============================] - 3s 314us/step - loss: 0.4023 - acc: 0.8352\n",
      "Epoch 28/100\n",
      "8000/8000 [==============================] - 3s 314us/step - loss: 0.4030 - acc: 0.8346\n",
      "Epoch 29/100\n",
      "8000/8000 [==============================] - 3s 319us/step - loss: 0.4027 - acc: 0.8345\n",
      "Epoch 30/100\n",
      "8000/8000 [==============================] - 2s 310us/step - loss: 0.4029 - acc: 0.8352\n",
      "Epoch 31/100\n",
      "8000/8000 [==============================] - 3s 338us/step - loss: 0.4024 - acc: 0.8337\n",
      "Epoch 32/100\n",
      "8000/8000 [==============================] - 3s 375us/step - loss: 0.4018 - acc: 0.8344\n",
      "Epoch 33/100\n",
      "8000/8000 [==============================] - 3s 313us/step - loss: 0.4022 - acc: 0.8352\n",
      "Epoch 34/100\n",
      "8000/8000 [==============================] - 2s 310us/step - loss: 0.4022 - acc: 0.8347\n",
      "Epoch 35/100\n",
      "8000/8000 [==============================] - 2s 311us/step - loss: 0.4022 - acc: 0.8344\n",
      "Epoch 36/100\n",
      "8000/8000 [==============================] - 2s 292us/step - loss: 0.4021 - acc: 0.8337\n",
      "Epoch 37/100\n",
      "8000/8000 [==============================] - 3s 318us/step - loss: 0.4020 - acc: 0.8354\n",
      "Epoch 38/100\n",
      "8000/8000 [==============================] - 3s 322us/step - loss: 0.4016 - acc: 0.8317\n",
      "Epoch 39/100\n",
      "8000/8000 [==============================] - 2s 301us/step - loss: 0.4020 - acc: 0.8354\n",
      "Epoch 40/100\n",
      "8000/8000 [==============================] - 3s 342us/step - loss: 0.4016 - acc: 0.8341\n",
      "Epoch 41/100\n",
      "8000/8000 [==============================] - 3s 320us/step - loss: 0.4018 - acc: 0.8351\n",
      "Epoch 42/100\n",
      "8000/8000 [==============================] - 3s 350us/step - loss: 0.4017 - acc: 0.8336\n",
      "Epoch 43/100\n",
      "8000/8000 [==============================] - 3s 322us/step - loss: 0.4019 - acc: 0.8340\n",
      "Epoch 44/100\n",
      "8000/8000 [==============================] - 2s 288us/step - loss: 0.4014 - acc: 0.8340\n",
      "Epoch 45/100\n",
      "8000/8000 [==============================] - 2s 307us/step - loss: 0.4017 - acc: 0.8354\n",
      "Epoch 46/100\n",
      "8000/8000 [==============================] - 2s 302us/step - loss: 0.4014 - acc: 0.8350\n",
      "Epoch 47/100\n",
      "8000/8000 [==============================] - 3s 317us/step - loss: 0.4012 - acc: 0.8346\n",
      "Epoch 48/100\n",
      "8000/8000 [==============================] - 2s 286us/step - loss: 0.4015 - acc: 0.8351\n",
      "Epoch 49/100\n",
      "8000/8000 [==============================] - 2s 293us/step - loss: 0.4016 - acc: 0.8369\n",
      "Epoch 50/100\n",
      "8000/8000 [==============================] - 2s 289us/step - loss: 0.4016 - acc: 0.8332\n",
      "Epoch 51/100\n",
      "8000/8000 [==============================] - 3s 351us/step - loss: 0.4012 - acc: 0.8345\n",
      "Epoch 52/100\n",
      "8000/8000 [==============================] - 3s 339us/step - loss: 0.4014 - acc: 0.8345\n",
      "Epoch 53/100\n",
      "8000/8000 [==============================] - 2s 309us/step - loss: 0.4015 - acc: 0.8331\n",
      "Epoch 54/100\n",
      "8000/8000 [==============================] - 2s 285us/step - loss: 0.4010 - acc: 0.8342\n",
      "Epoch 55/100\n",
      "8000/8000 [==============================] - 2s 281us/step - loss: 0.4008 - acc: 0.8347\n",
      "Epoch 56/100\n",
      "8000/8000 [==============================] - 2s 285us/step - loss: 0.4015 - acc: 0.8331\n",
      "Epoch 57/100\n",
      "8000/8000 [==============================] - 2s 285us/step - loss: 0.4008 - acc: 0.8355\n",
      "Epoch 58/100\n",
      "8000/8000 [==============================] - 2s 286us/step - loss: 0.4013 - acc: 0.8342\n",
      "Epoch 59/100\n",
      "8000/8000 [==============================] - 2s 308us/step - loss: 0.4012 - acc: 0.8342\n",
      "Epoch 60/100\n",
      "8000/8000 [==============================] - 2s 303us/step - loss: 0.4010 - acc: 0.8339\n",
      "Epoch 61/100\n",
      "8000/8000 [==============================] - 3s 371us/step - loss: 0.4009 - acc: 0.8337\n",
      "Epoch 62/100\n",
      "8000/8000 [==============================] - 3s 348us/step - loss: 0.4012 - acc: 0.8350\n",
      "Epoch 63/100\n",
      "8000/8000 [==============================] - 3s 341us/step - loss: 0.4009 - acc: 0.8349\n",
      "Epoch 64/100\n",
      "8000/8000 [==============================] - 3s 371us/step - loss: 0.4012 - acc: 0.8345\n",
      "Epoch 65/100\n",
      "8000/8000 [==============================] - 3s 375us/step - loss: 0.4007 - acc: 0.8344\n",
      "Epoch 66/100\n",
      "8000/8000 [==============================] - 3s 328us/step - loss: 0.4009 - acc: 0.8350\n",
      "Epoch 67/100\n",
      "8000/8000 [==============================] - 2s 311us/step - loss: 0.4010 - acc: 0.8341\n",
      "Epoch 68/100\n",
      "8000/8000 [==============================] - 2s 310us/step - loss: 0.4009 - acc: 0.8345\n",
      "Epoch 69/100\n",
      "8000/8000 [==============================] - 2s 299us/step - loss: 0.4008 - acc: 0.8354\n",
      "Epoch 70/100\n",
      "8000/8000 [==============================] - 3s 315us/step - loss: 0.4009 - acc: 0.8346\n",
      "Epoch 71/100\n",
      "8000/8000 [==============================] - 3s 319us/step - loss: 0.4007 - acc: 0.8367\n",
      "Epoch 72/100\n",
      "8000/8000 [==============================] - 3s 331us/step - loss: 0.4010 - acc: 0.8337\n",
      "Epoch 73/100\n",
      "8000/8000 [==============================] - 3s 334us/step - loss: 0.4006 - acc: 0.8337\n",
      "Epoch 74/100\n",
      "8000/8000 [==============================] - 3s 315us/step - loss: 0.4010 - acc: 0.8336\n",
      "Epoch 75/100\n",
      "8000/8000 [==============================] - 3s 326us/step - loss: 0.4006 - acc: 0.8342\n",
      "Epoch 76/100\n",
      "8000/8000 [==============================] - 3s 343us/step - loss: 0.4007 - acc: 0.8344\n",
      "Epoch 77/100\n",
      "8000/8000 [==============================] - 3s 335us/step - loss: 0.4010 - acc: 0.8346\n",
      "Epoch 78/100\n",
      "8000/8000 [==============================] - 2s 290us/step - loss: 0.4007 - acc: 0.8349\n",
      "Epoch 79/100\n",
      "8000/8000 [==============================] - 3s 335us/step - loss: 0.4004 - acc: 0.8349\n",
      "Epoch 80/100\n",
      "8000/8000 [==============================] - ETA: 0s - loss: 0.3996 - acc: 0.834 - 3s 341us/step - loss: 0.4004 - acc: 0.8345\n",
      "Epoch 81/100\n",
      "8000/8000 [==============================] - 3s 328us/step - loss: 0.4005 - acc: 0.8345\n",
      "Epoch 82/100\n",
      "8000/8000 [==============================] - 2s 297us/step - loss: 0.4006 - acc: 0.8339\n",
      "Epoch 83/100\n",
      "8000/8000 [==============================] - 2s 300us/step - loss: 0.3996 - acc: 0.8346\n",
      "Epoch 84/100\n",
      "8000/8000 [==============================] - 2s 298us/step - loss: 0.3997 - acc: 0.8351\n",
      "Epoch 85/100\n",
      "8000/8000 [==============================] - 2s 308us/step - loss: 0.3994 - acc: 0.8352\n",
      "Epoch 86/100\n",
      "8000/8000 [==============================] - 3s 330us/step - loss: 0.3993 - acc: 0.8351\n",
      "Epoch 87/100\n",
      "8000/8000 [==============================] - 3s 337us/step - loss: 0.3989 - acc: 0.8354\n",
      "Epoch 88/100\n",
      "8000/8000 [==============================] - 2s 310us/step - loss: 0.3988 - acc: 0.8340\n",
      "Epoch 89/100\n",
      "8000/8000 [==============================] - 2s 306us/step - loss: 0.3987 - acc: 0.8351\n",
      "Epoch 90/100\n",
      "8000/8000 [==============================] - 3s 355us/step - loss: 0.3983 - acc: 0.8347\n",
      "Epoch 91/100\n",
      "8000/8000 [==============================] - 3s 324us/step - loss: 0.3981 - acc: 0.8347\n",
      "Epoch 92/100\n",
      "8000/8000 [==============================] - 2s 303us/step - loss: 0.3979 - acc: 0.8347\n",
      "Epoch 93/100\n",
      "8000/8000 [==============================] - 2s 303us/step - loss: 0.3977 - acc: 0.8365\n",
      "Epoch 94/100\n",
      "8000/8000 [==============================] - 3s 315us/step - loss: 0.3972 - acc: 0.8340\n",
      "Epoch 95/100\n",
      "8000/8000 [==============================] - 3s 324us/step - loss: 0.3972 - acc: 0.8361\n",
      "Epoch 96/100\n",
      "8000/8000 [==============================] - 3s 319us/step - loss: 0.3967 - acc: 0.8362\n",
      "Epoch 97/100\n",
      "8000/8000 [==============================] - 3s 313us/step - loss: 0.3964 - acc: 0.8352\n",
      "Epoch 98/100\n",
      "8000/8000 [==============================] - 3s 337us/step - loss: 0.3957 - acc: 0.8352\n",
      "Epoch 99/100\n",
      "8000/8000 [==============================] - 3s 323us/step - loss: 0.3958 - acc: 0.8349\n",
      "Epoch 100/100\n",
      "8000/8000 [==============================] - 3s 321us/step - loss: 0.3956 - acc: 0.8366\n"
     ]
    },
    {
     "data": {
      "text/plain": [
       "<keras.callbacks.History at 0x108231f98>"
      ]
     },
     "execution_count": 43,
     "metadata": {},
     "output_type": "execute_result"
    }
   ],
   "source": [
    "classifier.fit(X_train, y_train, batch_size=10, epochs=100)"
   ]
  },
  {
   "cell_type": "markdown",
   "metadata": {},
   "source": [
    "# Part 3: Making the predictions and evaluating the model"
   ]
  },
  {
   "cell_type": "markdown",
   "metadata": {},
   "source": [
    "## Predicting the Test set results"
   ]
  },
  {
   "cell_type": "code",
   "execution_count": 51,
   "metadata": {},
   "outputs": [],
   "source": [
    "y_pred = classifier.predict(X_test)\n",
    "y_pred = (y_pred > 0.5) # tupla de booleanos"
   ]
  },
  {
   "cell_type": "markdown",
   "metadata": {},
   "source": [
    "## Making the Confusion Matrix"
   ]
  },
  {
   "cell_type": "code",
   "execution_count": 52,
   "metadata": {},
   "outputs": [],
   "source": [
    "from sklearn.metrics import confusion_matrix\n",
    "cm = confusion_matrix(y_test, y_pred)"
   ]
  },
  {
   "cell_type": "code",
   "execution_count": 53,
   "metadata": {},
   "outputs": [
    {
     "data": {
      "text/plain": [
       "array([[1545,   50],\n",
       "       [ 263,  142]])"
      ]
     },
     "execution_count": 53,
     "metadata": {},
     "output_type": "execute_result"
    }
   ],
   "source": [
    "cm"
   ]
  },
  {
   "cell_type": "markdown",
   "metadata": {},
   "source": [
    "## Predicting a single new observation\n",
    "credit score: 600\n",
    "geography: france\n",
    "age: 40\n",
    "tenure: 3\n",
    "balance: 60000\n",
    "number of products: 2\n",
    "has credit card: yes\n",
    "is active member: yes\n",
    "estimated salary: 50000"
   ]
  },
  {
   "cell_type": "code",
   "execution_count": 79,
   "metadata": {},
   "outputs": [
    {
     "name": "stdout",
     "output_type": "stream",
     "text": [
      "[[ 0.14901029]]\n"
     ]
    },
    {
     "name": "stderr",
     "output_type": "stream",
     "text": [
      "/usr/local/lib/python3.6/site-packages/sklearn/utils/validation.py:475: DataConversionWarning: Data with input dtype int64 was converted to float64 by StandardScaler.\n",
      "  warnings.warn(msg, DataConversionWarning)\n"
     ]
    }
   ],
   "source": [
    "homework_client = np.array([[0, 0, 0, 600, 1, 40, 3, 60000, 2, 1, 1, 50000]])\n",
    "homework_client = sc.transform(homework_client)\n",
    "new_prediction = classifier.predict(homework_client)\n",
    "print(new_prediction)"
   ]
  },
  {
   "cell_type": "code",
   "execution_count": null,
   "metadata": {},
   "outputs": [],
   "source": []
  }
 ],
 "metadata": {
  "kernelspec": {
   "display_name": "Python 3",
   "language": "python",
   "name": "python3"
  },
  "language_info": {
   "codemirror_mode": {
    "name": "ipython",
    "version": 3
   },
   "file_extension": ".py",
   "mimetype": "text/x-python",
   "name": "python",
   "nbconvert_exporter": "python",
   "pygments_lexer": "ipython3",
   "version": "3.6.3"
  }
 },
 "nbformat": 4,
 "nbformat_minor": 2
}
